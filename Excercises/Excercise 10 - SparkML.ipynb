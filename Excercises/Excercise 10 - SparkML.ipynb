{
  "cells": [
    {
      "cell_type": "code",
      "execution_count": null,
      "metadata": {
        "colab": {
          "base_uri": "https://localhost:8080/"
        },
        "id": "C_5bnuSVQjG2",
        "outputId": "ee56b4c3-092f-44ce-ba91-270a9608216f"
      },
      "outputs": [],
      "source": [
        "# !pip install pyspark"
      ]
    },
    {
      "cell_type": "code",
      "execution_count": null,
      "metadata": {
        "colab": {
          "base_uri": "https://localhost:8080/"
        },
        "id": "9kVp2fC37Se1",
        "outputId": "352fe450-6c10-4311-aaff-3d8bceee38cc"
      },
      "outputs": [],
      "source": [
        "from pyspark.sql import SparkSession\n",
        "from pyspark.ml import Pipeline\n",
        "from pyspark.ml.feature import VectorAssembler\n",
        "from pyspark.ml.classification import LogisticRegression\n",
        "from sklearn.metrics import accuracy_score\n",
        "\n",
        "def get_path(dataset_name,env_name='colab'):\n",
        "    prefix = 'https://raw.githubusercontent.com/John-Ghaly88/Big_Data_and_NoSQL/main/Datasets/Assessment/'\n",
        "    if env_name == 'colab':\n",
        "        return prefix+dataset_name\n",
        "    else:\n",
        "        return f'../Datasets/{dataset_name}'\n",
        "\n",
        "spark = SparkSession.builder.appName('mobileprice_lr').getOrCreate()\n",
        "\n",
        "df = spark.read_csv(get_path('music_genre_dataset.csv'), header = True, inferSchema = True)\n",
        "\n",
        "numericCols = ['battery_power', 'clock_speed', 'dual_sim', 'fc', 'four_g', 'int_memory', 'm_dep', 'mobile_wt', 'n_cores','pc', 'px_height', 'px_width','ram','sc_h','sc_w','talk_time','three_g','touch_screen','wifi']\n",
        "\n",
        "featurizationPipeline = Pipeline(stages = [VectorAssembler(inputCols=numericCols, outputCol=\"feature_vector\")])\n",
        "\n",
        "featurizationPipelineModel = featurizationPipeline.fit(df)\n",
        "df = featurizationPipelineModel.transform(df)\n",
        "\n",
        "train, test = df.randomSplit([0.8, 0.2], seed = 2018)\n",
        "\n",
        "lr = LogisticRegression(featuresCol = 'feature_vector', labelCol = 'price_range', maxIter=10)\n",
        "\n",
        "lrModel = lr.fit(train)\n",
        "predictions = lrModel.transform(test)\n",
        "\n",
        "true_labels=predictions.select('price_range')\n",
        "lr_predictions=predictions.select('prediction')\n",
        "\n",
        "accuracy = accuracy_score(true_labels.toPandas(), lr_predictions.toPandas())\n",
        "# print(\"Logistic Regression Accuracy =\",accuracy*100,\"%\")"
      ]
    }
  ],
  "metadata": {
    "colab": {
      "collapsed_sections": [],
      "name": "Mobile Price Prediction using Logistic Regression.ipynb",
      "provenance": []
    },
    "kernelspec": {
      "display_name": "Python 3.10.0 64-bit",
      "language": "python",
      "name": "python3"
    },
    "language_info": {
      "name": "python",
      "version": "3.10.0"
    },
    "vscode": {
      "interpreter": {
        "hash": "369f2c481f4da34e4445cda3fffd2e751bd1c4d706f27375911949ba6bb62e1c"
      }
    }
  },
  "nbformat": 4,
  "nbformat_minor": 0
}
