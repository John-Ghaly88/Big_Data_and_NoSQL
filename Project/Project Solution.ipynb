{
  "cells": [
    {
      "cell_type": "code",
      "execution_count": null,
      "metadata": {
        "id": "J94v_R64BSOr"
      },
      "outputs": [],
      "source": [
        "# !pip install pyspark"
      ]
    },
    {
      "cell_type": "code",
      "execution_count": null,
      "metadata": {
        "id": "eIFXkeV_CaEq"
      },
      "outputs": [],
      "source": [
        "import numpy as np\n",
        "import pandas as pd\n",
        "import seaborn as sns\n",
        "from scipy import stats\n",
        "from matplotlib import pyplot as plt\n",
        "%matplotlib inline\n",
        "\n",
        "from pyspark.sql import SparkSession\n",
        "from pyspark.ml import Pipeline\n",
        "from pyspark.ml.feature import VectorAssembler\n",
        "from pyspark.ml.classification import LogisticRegression, DecisionTreeClassifier, RandomForestClassifier\n",
        "from sklearn.metrics import accuracy_score\n",
        "\n",
        "def get_path(dataset_name,env_name='colab'):\n",
        "    prefix = 'https://raw.githubusercontent.com/John-Ghaly88/Big_Data_and_NoSQL/main/Datasets/Assessment/'\n",
        "    if env_name == 'colab':\n",
        "        return prefix+dataset_name\n",
        "    else:\n",
        "        return f'../Datasets/{dataset_name}'"
      ]
    },
    {
      "cell_type": "markdown",
      "metadata": {
        "id": "kHg1lgz-Cq2_"
      },
      "source": [
        "## Reading the dataset"
      ]
    },
    {
      "cell_type": "code",
      "execution_count": null,
      "metadata": {
        "colab": {
          "base_uri": "https://localhost:8080/",
          "height": 444
        },
        "id": "mvofLU4VCfq5",
        "outputId": "42c9dac3-6527-4f10-8f2b-5a651d3b6c32"
      },
      "outputs": [
        {
          "data": {
            "text/html": [
              "\n",
              "  <div id=\"df-da11cb09-5a20-44cb-877c-f63a3a4bc3b6\">\n",
              "    <div class=\"colab-df-container\">\n",
              "      <div>\n",
              "<style scoped>\n",
              "    .dataframe tbody tr th:only-of-type {\n",
              "        vertical-align: middle;\n",
              "    }\n",
              "\n",
              "    .dataframe tbody tr th {\n",
              "        vertical-align: top;\n",
              "    }\n",
              "\n",
              "    .dataframe thead th {\n",
              "        text-align: right;\n",
              "    }\n",
              "</style>\n",
              "<table border=\"1\" class=\"dataframe\">\n",
              "  <thead>\n",
              "    <tr style=\"text-align: right;\">\n",
              "      <th></th>\n",
              "      <th>Artist Name</th>\n",
              "      <th>Track Name</th>\n",
              "      <th>Popularity</th>\n",
              "      <th>danceability</th>\n",
              "      <th>energy</th>\n",
              "      <th>key</th>\n",
              "      <th>loudness</th>\n",
              "      <th>mode</th>\n",
              "      <th>speechiness</th>\n",
              "      <th>acousticness</th>\n",
              "      <th>instrumentalness</th>\n",
              "      <th>liveness</th>\n",
              "      <th>valence</th>\n",
              "      <th>tempo</th>\n",
              "      <th>duration_in min/ms</th>\n",
              "      <th>time_signature</th>\n",
              "      <th>Class</th>\n",
              "    </tr>\n",
              "  </thead>\n",
              "  <tbody>\n",
              "    <tr>\n",
              "      <th>0</th>\n",
              "      <td>Bruno Mars</td>\n",
              "      <td>That's What I Like (feat. Gucci Mane)</td>\n",
              "      <td>60.0</td>\n",
              "      <td>0.854</td>\n",
              "      <td>0.564</td>\n",
              "      <td>1.0</td>\n",
              "      <td>-4.964</td>\n",
              "      <td>1</td>\n",
              "      <td>0.0485</td>\n",
              "      <td>0.017100</td>\n",
              "      <td>NaN</td>\n",
              "      <td>0.0849</td>\n",
              "      <td>0.8990</td>\n",
              "      <td>134.071</td>\n",
              "      <td>234596.0</td>\n",
              "      <td>4</td>\n",
              "      <td>5</td>\n",
              "    </tr>\n",
              "    <tr>\n",
              "      <th>1</th>\n",
              "      <td>Boston</td>\n",
              "      <td>Hitch a Ride</td>\n",
              "      <td>54.0</td>\n",
              "      <td>0.382</td>\n",
              "      <td>0.814</td>\n",
              "      <td>3.0</td>\n",
              "      <td>-7.230</td>\n",
              "      <td>1</td>\n",
              "      <td>0.0406</td>\n",
              "      <td>0.001100</td>\n",
              "      <td>0.004010</td>\n",
              "      <td>0.1010</td>\n",
              "      <td>0.5690</td>\n",
              "      <td>116.454</td>\n",
              "      <td>251733.0</td>\n",
              "      <td>4</td>\n",
              "      <td>10</td>\n",
              "    </tr>\n",
              "    <tr>\n",
              "      <th>2</th>\n",
              "      <td>The Raincoats</td>\n",
              "      <td>No Side to Fall In</td>\n",
              "      <td>35.0</td>\n",
              "      <td>0.434</td>\n",
              "      <td>0.614</td>\n",
              "      <td>6.0</td>\n",
              "      <td>-8.334</td>\n",
              "      <td>1</td>\n",
              "      <td>0.0525</td>\n",
              "      <td>0.486000</td>\n",
              "      <td>0.000196</td>\n",
              "      <td>0.3940</td>\n",
              "      <td>0.7870</td>\n",
              "      <td>147.681</td>\n",
              "      <td>109667.0</td>\n",
              "      <td>4</td>\n",
              "      <td>6</td>\n",
              "    </tr>\n",
              "    <tr>\n",
              "      <th>3</th>\n",
              "      <td>Deno</td>\n",
              "      <td>Lingo (feat. J.I &amp; Chunkz)</td>\n",
              "      <td>66.0</td>\n",
              "      <td>0.853</td>\n",
              "      <td>0.597</td>\n",
              "      <td>10.0</td>\n",
              "      <td>-6.528</td>\n",
              "      <td>0</td>\n",
              "      <td>0.0555</td>\n",
              "      <td>0.021200</td>\n",
              "      <td>NaN</td>\n",
              "      <td>0.1220</td>\n",
              "      <td>0.5690</td>\n",
              "      <td>107.033</td>\n",
              "      <td>173968.0</td>\n",
              "      <td>4</td>\n",
              "      <td>5</td>\n",
              "    </tr>\n",
              "    <tr>\n",
              "      <th>4</th>\n",
              "      <td>Red Hot Chili Peppers</td>\n",
              "      <td>Nobody Weird Like Me - Remastered</td>\n",
              "      <td>53.0</td>\n",
              "      <td>0.167</td>\n",
              "      <td>0.975</td>\n",
              "      <td>2.0</td>\n",
              "      <td>-4.279</td>\n",
              "      <td>1</td>\n",
              "      <td>0.2160</td>\n",
              "      <td>0.000169</td>\n",
              "      <td>0.016100</td>\n",
              "      <td>0.1720</td>\n",
              "      <td>0.0918</td>\n",
              "      <td>199.060</td>\n",
              "      <td>229960.0</td>\n",
              "      <td>4</td>\n",
              "      <td>10</td>\n",
              "    </tr>\n",
              "  </tbody>\n",
              "</table>\n",
              "</div>\n",
              "      <button class=\"colab-df-convert\" onclick=\"convertToInteractive('df-da11cb09-5a20-44cb-877c-f63a3a4bc3b6')\"\n",
              "              title=\"Convert this dataframe to an interactive table.\"\n",
              "              style=\"display:none;\">\n",
              "        \n",
              "  <svg xmlns=\"http://www.w3.org/2000/svg\" height=\"24px\"viewBox=\"0 0 24 24\"\n",
              "       width=\"24px\">\n",
              "    <path d=\"M0 0h24v24H0V0z\" fill=\"none\"/>\n",
              "    <path d=\"M18.56 5.44l.94 2.06.94-2.06 2.06-.94-2.06-.94-.94-2.06-.94 2.06-2.06.94zm-11 1L8.5 8.5l.94-2.06 2.06-.94-2.06-.94L8.5 2.5l-.94 2.06-2.06.94zm10 10l.94 2.06.94-2.06 2.06-.94-2.06-.94-.94-2.06-.94 2.06-2.06.94z\"/><path d=\"M17.41 7.96l-1.37-1.37c-.4-.4-.92-.59-1.43-.59-.52 0-1.04.2-1.43.59L10.3 9.45l-7.72 7.72c-.78.78-.78 2.05 0 2.83L4 21.41c.39.39.9.59 1.41.59.51 0 1.02-.2 1.41-.59l7.78-7.78 2.81-2.81c.8-.78.8-2.07 0-2.86zM5.41 20L4 18.59l7.72-7.72 1.47 1.35L5.41 20z\"/>\n",
              "  </svg>\n",
              "      </button>\n",
              "      \n",
              "  <style>\n",
              "    .colab-df-container {\n",
              "      display:flex;\n",
              "      flex-wrap:wrap;\n",
              "      gap: 12px;\n",
              "    }\n",
              "\n",
              "    .colab-df-convert {\n",
              "      background-color: #E8F0FE;\n",
              "      border: none;\n",
              "      border-radius: 50%;\n",
              "      cursor: pointer;\n",
              "      display: none;\n",
              "      fill: #1967D2;\n",
              "      height: 32px;\n",
              "      padding: 0 0 0 0;\n",
              "      width: 32px;\n",
              "    }\n",
              "\n",
              "    .colab-df-convert:hover {\n",
              "      background-color: #E2EBFA;\n",
              "      box-shadow: 0px 1px 2px rgba(60, 64, 67, 0.3), 0px 1px 3px 1px rgba(60, 64, 67, 0.15);\n",
              "      fill: #174EA6;\n",
              "    }\n",
              "\n",
              "    [theme=dark] .colab-df-convert {\n",
              "      background-color: #3B4455;\n",
              "      fill: #D2E3FC;\n",
              "    }\n",
              "\n",
              "    [theme=dark] .colab-df-convert:hover {\n",
              "      background-color: #434B5C;\n",
              "      box-shadow: 0px 1px 3px 1px rgba(0, 0, 0, 0.15);\n",
              "      filter: drop-shadow(0px 1px 2px rgba(0, 0, 0, 0.3));\n",
              "      fill: #FFFFFF;\n",
              "    }\n",
              "  </style>\n",
              "\n",
              "      <script>\n",
              "        const buttonEl =\n",
              "          document.querySelector('#df-da11cb09-5a20-44cb-877c-f63a3a4bc3b6 button.colab-df-convert');\n",
              "        buttonEl.style.display =\n",
              "          google.colab.kernel.accessAllowed ? 'block' : 'none';\n",
              "\n",
              "        async function convertToInteractive(key) {\n",
              "          const element = document.querySelector('#df-da11cb09-5a20-44cb-877c-f63a3a4bc3b6');\n",
              "          const dataTable =\n",
              "            await google.colab.kernel.invokeFunction('convertToInteractive',\n",
              "                                                     [key], {});\n",
              "          if (!dataTable) return;\n",
              "\n",
              "          const docLinkHtml = 'Like what you see? Visit the ' +\n",
              "            '<a target=\"_blank\" href=https://colab.research.google.com/notebooks/data_table.ipynb>data table notebook</a>'\n",
              "            + ' to learn more about interactive tables.';\n",
              "          element.innerHTML = '';\n",
              "          dataTable['output_type'] = 'display_data';\n",
              "          await google.colab.output.renderOutput(dataTable, element);\n",
              "          const docLink = document.createElement('div');\n",
              "          docLink.innerHTML = docLinkHtml;\n",
              "          element.appendChild(docLink);\n",
              "        }\n",
              "      </script>\n",
              "    </div>\n",
              "  </div>\n",
              "  "
            ],
            "text/plain": [
              "             Artist Name                             Track Name  Popularity  \\\n",
              "0             Bruno Mars  That's What I Like (feat. Gucci Mane)        60.0   \n",
              "1                 Boston                           Hitch a Ride        54.0   \n",
              "2          The Raincoats                     No Side to Fall In        35.0   \n",
              "3                   Deno             Lingo (feat. J.I & Chunkz)        66.0   \n",
              "4  Red Hot Chili Peppers      Nobody Weird Like Me - Remastered        53.0   \n",
              "\n",
              "   danceability  energy   key  loudness  mode  speechiness  acousticness  \\\n",
              "0         0.854   0.564   1.0    -4.964     1       0.0485      0.017100   \n",
              "1         0.382   0.814   3.0    -7.230     1       0.0406      0.001100   \n",
              "2         0.434   0.614   6.0    -8.334     1       0.0525      0.486000   \n",
              "3         0.853   0.597  10.0    -6.528     0       0.0555      0.021200   \n",
              "4         0.167   0.975   2.0    -4.279     1       0.2160      0.000169   \n",
              "\n",
              "   instrumentalness  liveness  valence    tempo  duration_in min/ms  \\\n",
              "0               NaN    0.0849   0.8990  134.071            234596.0   \n",
              "1          0.004010    0.1010   0.5690  116.454            251733.0   \n",
              "2          0.000196    0.3940   0.7870  147.681            109667.0   \n",
              "3               NaN    0.1220   0.5690  107.033            173968.0   \n",
              "4          0.016100    0.1720   0.0918  199.060            229960.0   \n",
              "\n",
              "   time_signature  Class  \n",
              "0               4      5  \n",
              "1               4     10  \n",
              "2               4      6  \n",
              "3               4      5  \n",
              "4               4     10  "
            ]
          },
          "execution_count": 3,
          "metadata": {},
          "output_type": "execute_result"
        }
      ],
      "source": [
        "df = pd.read_csv(get_path('music_genre_dataset.csv'))\n",
        "\n",
        "df.head()"
      ]
    },
    {
      "cell_type": "markdown",
      "metadata": {
        "id": "K0VfLXoeDAlT"
      },
      "source": [
        "# Data Preprocessing"
      ]
    },
    {
      "cell_type": "markdown",
      "metadata": {
        "id": "IkxlwMBeDCUC"
      },
      "source": [
        "## Exploring the data"
      ]
    },
    {
      "cell_type": "code",
      "execution_count": null,
      "metadata": {
        "colab": {
          "base_uri": "https://localhost:8080/"
        },
        "id": "8_WPJocRDFjb",
        "outputId": "c132b3f3-d718-4ca9-f223-e0c240019fad"
      },
      "outputs": [
        {
          "name": "stdout",
          "output_type": "stream",
          "text": [
            "<class 'pandas.core.frame.DataFrame'>\n",
            "RangeIndex: 15517 entries, 0 to 15516\n",
            "Data columns (total 17 columns):\n",
            " #   Column              Non-Null Count  Dtype  \n",
            "---  ------              --------------  -----  \n",
            " 0   Artist Name         15517 non-null  object \n",
            " 1   Track Name          15517 non-null  object \n",
            " 2   Popularity          15123 non-null  float64\n",
            " 3   danceability        15517 non-null  float64\n",
            " 4   energy              15517 non-null  float64\n",
            " 5   key                 13774 non-null  float64\n",
            " 6   loudness            15517 non-null  float64\n",
            " 7   mode                15517 non-null  int64  \n",
            " 8   speechiness         15517 non-null  float64\n",
            " 9   acousticness        15517 non-null  float64\n",
            " 10  instrumentalness    11930 non-null  float64\n",
            " 11  liveness            15517 non-null  float64\n",
            " 12  valence             15517 non-null  float64\n",
            " 13  tempo               15517 non-null  float64\n",
            " 14  duration_in min/ms  15517 non-null  float64\n",
            " 15  time_signature      15517 non-null  int64  \n",
            " 16  Class               15517 non-null  int64  \n",
            "dtypes: float64(12), int64(3), object(2)\n",
            "memory usage: 2.0+ MB\n"
          ]
        }
      ],
      "source": [
        "df.info()"
      ]
    },
    {
      "cell_type": "code",
      "execution_count": null,
      "metadata": {
        "colab": {
          "base_uri": "https://localhost:8080/",
          "height": 382
        },
        "id": "im9woVzODHck",
        "outputId": "04f3a67a-1ae6-488f-fa22-844945c7a569"
      },
      "outputs": [],
      "source": [
        "# df.describe()"
      ]
    },
    {
      "cell_type": "markdown",
      "metadata": {
        "id": "4e-O2xkNDOQl"
      },
      "source": [
        "## Data cleaning"
      ]
    },
    {
      "cell_type": "markdown",
      "metadata": {
        "id": "XtH3t0XEDRAG"
      },
      "source": [
        "### Dropping the Null values"
      ]
    },
    {
      "cell_type": "code",
      "execution_count": null,
      "metadata": {
        "colab": {
          "base_uri": "https://localhost:8080/"
        },
        "id": "1GmoVEgjDKOg",
        "outputId": "e0ecf307-ce74-4f3a-a3f8-289a7bbbaad8"
      },
      "outputs": [
        {
          "data": {
            "text/plain": [
              "Artist Name              0\n",
              "Track Name               0\n",
              "Popularity             394\n",
              "danceability             0\n",
              "energy                   0\n",
              "key                   1743\n",
              "loudness                 0\n",
              "mode                     0\n",
              "speechiness              0\n",
              "acousticness             0\n",
              "instrumentalness      3587\n",
              "liveness                 0\n",
              "valence                  0\n",
              "tempo                    0\n",
              "duration_in min/ms       0\n",
              "time_signature           0\n",
              "Class                    0\n",
              "dtype: int64"
            ]
          },
          "execution_count": 6,
          "metadata": {},
          "output_type": "execute_result"
        }
      ],
      "source": [
        "df.isnull().sum()"
      ]
    },
    {
      "cell_type": "code",
      "execution_count": null,
      "metadata": {
        "id": "sdImLd4dDTkW"
      },
      "outputs": [],
      "source": [
        "df = df.dropna()"
      ]
    },
    {
      "cell_type": "code",
      "execution_count": null,
      "metadata": {
        "colab": {
          "base_uri": "https://localhost:8080/"
        },
        "id": "Ql5IRfahDWGx",
        "outputId": "1f53b948-a731-450f-980f-17d4b999af2a"
      },
      "outputs": [],
      "source": [
        "# df.isnull().sum()"
      ]
    },
    {
      "cell_type": "markdown",
      "metadata": {},
      "source": [
        "### Dropping the duplicate values"
      ]
    },
    {
      "cell_type": "code",
      "execution_count": null,
      "metadata": {},
      "outputs": [],
      "source": [
        "df.drop_duplicates(keep = False, inplace = True)"
      ]
    },
    {
      "cell_type": "markdown",
      "metadata": {
        "id": "7ivSAkcYDbpa"
      },
      "source": [
        "## Data Featurization"
      ]
    },
    {
      "cell_type": "markdown",
      "metadata": {
        "id": "0l9kh9CcDew5"
      },
      "source": [
        " ### duration_in min/ms convert it duration_in_mins"
      ]
    },
    {
      "cell_type": "code",
      "execution_count": null,
      "metadata": {
        "id": "k4e3PK37DYTE"
      },
      "outputs": [],
      "source": [
        "def convertToMins(t):\n",
        "    s = str(t)\n",
        "    #if it's in mins\n",
        "    if((s[1]==\".\")or(s[2]==\".\")):\n",
        "        return t\n",
        "    #Else it's in milseconds, convert to mins by dividing the time by 60,000\n",
        "    else:\n",
        "        return t/60000\n",
        "\n",
        "df['duration_in_mins'] = df['duration_in min/ms'].apply(lambda t:convertToMins(t))\n",
        "\n",
        "#Dropping the duration_in min/ms column after adding the updated feature\n",
        "df = df.drop(['duration_in min/ms'],axis=1)"
      ]
    },
    {
      "cell_type": "markdown",
      "metadata": {
        "id": "FK0G0q4dDsLm"
      },
      "source": [
        "### Renaming the Artist Name column because of the space"
      ]
    },
    {
      "cell_type": "code",
      "execution_count": null,
      "metadata": {
        "id": "MruuE9e5Ditz"
      },
      "outputs": [],
      "source": [
        "df.rename(columns = {'Artist Name':'Artist'}, inplace = True)"
      ]
    },
    {
      "cell_type": "code",
      "execution_count": null,
      "metadata": {
        "colab": {
          "base_uri": "https://localhost:8080/",
          "height": 426
        },
        "id": "mYMIK9jTD9iL",
        "outputId": "6f7f2ef2-029f-4cba-81fd-07fd5ed1e7b2"
      },
      "outputs": [],
      "source": [
        "# df.head()"
      ]
    },
    {
      "cell_type": "markdown",
      "metadata": {
        "id": "8p0o_6k4EAj8"
      },
      "source": [
        "## Exporting the processed dataset"
      ]
    },
    {
      "cell_type": "code",
      "execution_count": null,
      "metadata": {
        "id": "CkB9hgj5D-Rg"
      },
      "outputs": [],
      "source": [
        "# df.to_csv('processed_music_genre.csv',index=False)"
      ]
    },
    {
      "cell_type": "markdown",
      "metadata": {
        "id": "kTD4qpY9EMGm"
      },
      "source": [
        "# Spark SQL Queries"
      ]
    },
    {
      "cell_type": "markdown",
      "metadata": {
        "id": "UYQFUn2sEfRX"
      },
      "source": [
        "## Creating and defining the Spark session"
      ]
    },
    {
      "cell_type": "code",
      "execution_count": null,
      "metadata": {
        "id": "JzASxRK5EH4u"
      },
      "outputs": [],
      "source": [
        "spark = SparkSession.builder.appName('music_genre').getOrCreate()\n",
        "\n",
        "sdf = spark.createDataFrame(df)\n",
        "\n",
        "sdf.createTempView(\"music\")"
      ]
    },
    {
      "cell_type": "markdown",
      "metadata": {
        "id": "wQLQUTPeEp5T"
      },
      "source": [
        "## Query 1"
      ]
    },
    {
      "cell_type": "code",
      "execution_count": null,
      "metadata": {
        "colab": {
          "base_uri": "https://localhost:8080/"
        },
        "id": "46zbfLJIElIp",
        "outputId": "a48280f0-c852-4e83-a3fc-31108b551893"
      },
      "outputs": [
        {
          "name": "stdout",
          "output_type": "stream",
          "text": [
            "+------------------+\n",
            "|  duration_in_mins|\n",
            "+------------------+\n",
            "|           4.19555|\n",
            "|1.8277833333333333|\n",
            "| 3.832666666666667|\n",
            "|3.4688833333333333|\n",
            "|5.4897833333333335|\n",
            "|       3.105783333|\n",
            "|           3.96445|\n",
            "|           4.33045|\n",
            "|           4.44025|\n",
            "|           2.56155|\n",
            "|2.4466666666666668|\n",
            "|           2.57155|\n",
            "|4.7168833333333335|\n",
            "|2.2978666666666667|\n",
            "|               2.3|\n",
            "|           5.16445|\n",
            "| 4.289333333333333|\n",
            "|3.4046666666666665|\n",
            "|             3.286|\n",
            "|            3.0137|\n",
            "+------------------+\n",
            "only showing top 20 rows\n",
            "\n"
          ]
        }
      ],
      "source": [
        "spark.sql(\"SELECT duration_in_mins FROM music\").show()"
      ]
    },
    {
      "cell_type": "markdown",
      "metadata": {
        "id": "Bvl3GmMVEzDK"
      },
      "source": [
        "## Query 2"
      ]
    },
    {
      "cell_type": "code",
      "execution_count": null,
      "metadata": {
        "colab": {
          "base_uri": "https://localhost:8080/"
        },
        "id": "ooIy5DuTEr78",
        "outputId": "87d30c63-d503-4e0e-8aa8-af9009f4a743"
      },
      "outputs": [
        {
          "name": "stdout",
          "output_type": "stream",
          "text": [
            "+----------+------------------+\n",
            "|Popularity|  duration_in_mins|\n",
            "+----------+------------------+\n",
            "|      54.0|           4.19555|\n",
            "|      35.0|1.8277833333333333|\n",
            "|      53.0| 3.832666666666667|\n",
            "|      53.0|3.4688833333333333|\n",
            "|      48.0|5.4897833333333335|\n",
            "|      55.0|       3.105783333|\n",
            "|      29.0|           3.96445|\n",
            "|      11.0|           4.33045|\n",
            "|      34.0|           4.44025|\n",
            "|      76.0|           2.56155|\n",
            "|      37.0|2.4466666666666668|\n",
            "|      31.0|           2.57155|\n",
            "|      48.0|4.7168833333333335|\n",
            "|      44.0|2.2978666666666667|\n",
            "|      29.0|               2.3|\n",
            "|      44.0|           5.16445|\n",
            "|      73.0| 4.289333333333333|\n",
            "|      35.0|3.4046666666666665|\n",
            "|      66.0|             3.286|\n",
            "|      30.0|            3.0137|\n",
            "+----------+------------------+\n",
            "only showing top 20 rows\n",
            "\n"
          ]
        }
      ],
      "source": [
        "spark.sql(\"SELECT Popularity,duration_in_mins FROM music\").show()"
      ]
    },
    {
      "cell_type": "markdown",
      "metadata": {
        "id": "BRjYNKX7E00j"
      },
      "source": [
        "## Query 3"
      ]
    },
    {
      "cell_type": "code",
      "execution_count": null,
      "metadata": {
        "colab": {
          "base_uri": "https://localhost:8080/"
        },
        "id": "zrVe2Y2zE1oW",
        "outputId": "97db8f1c-46ee-42af-dd34-e7bf649ea526"
      },
      "outputs": [
        {
          "name": "stdout",
          "output_type": "stream",
          "text": [
            "+--------------------+-----+\n",
            "|              Artist|avg_p|\n",
            "+--------------------+-----+\n",
            "|       Doja Cat, SZA| 95.0|\n",
            "|      Rauw Alejandro| 95.0|\n",
            "|          Nio Garcia| 93.0|\n",
            "|Riton, Nightcrawl...| 92.0|\n",
            "|            Doja Cat| 91.5|\n",
            "+--------------------+-----+\n",
            "\n"
          ]
        }
      ],
      "source": [
        "spark.sql(\"SELECT Artist, AVG(Popularity) AS avg_p FROM music GROUP BY Artist ORDER BY avg_p  DESC LIMIT 5\").show()"
      ]
    },
    {
      "cell_type": "markdown",
      "metadata": {
        "id": "SVHjq3x1FBuv"
      },
      "source": [
        "# Data Visualization"
      ]
    },
    {
      "cell_type": "markdown",
      "metadata": {
        "id": "EaiqIGwoFNsM"
      },
      "source": [
        "## Visualisation 1: The music tracks' duration range and distribution"
      ]
    },
    {
      "cell_type": "code",
      "execution_count": null,
      "metadata": {
        "colab": {
          "base_uri": "https://localhost:8080/",
          "height": 404
        },
        "id": "qat9El6DFAZ-",
        "outputId": "4f76d005-5ac4-4d30-9269-6b68aa0ec3ab"
      },
      "outputs": [
        {
          "data": {
            "image/png": "[encoded data removed]",
            "text/plain": [
              "<Figure size 1008x432 with 1 Axes>"
            ]
          },
          "metadata": {
            "needs_background": "light"
          },
          "output_type": "display_data"
        }
      ],
      "source": [
        "plt.figure(figsize=(14,6))\n",
        "plt.title(\"Tracks' durations\")\n",
        "plt.xlabel('Duration in mins')\n",
        "plt.ylabel('No of tracks')\n",
        "\n",
        "plt.hist(df.duration_in_mins)\n",
        "\n",
        "plt.show()"
      ]
    },
    {
      "cell_type": "markdown",
      "metadata": {
        "id": "y8y7J_V4FUKL"
      },
      "source": [
        "## Visualisation 2: A plot showing the co-relation between the popularity and the tracks' durations\n",
        "## Does making longer tracks makes you more popular?"
      ]
    },
    {
      "cell_type": "code",
      "execution_count": null,
      "metadata": {
        "colab": {
          "base_uri": "https://localhost:8080/",
          "height": 404
        },
        "id": "AybjhTBNFMC5",
        "outputId": "2e2b3083-39ba-44bd-f4a2-a1add0c6cdc8"
      },
      "outputs": [
        {
          "data": {
            "image/png": "[encoded data removed]",
            "text/plain": [
              "<Figure size 1008x432 with 1 Axes>"
            ]
          },
          "metadata": {
            "needs_background": "light"
          },
          "output_type": "display_data"
        }
      ],
      "source": [
        "plt.figure(figsize=(14,6))\n",
        "plt.title('Popularity vs Duration')\n",
        "plt.xlabel('Popularity')\n",
        "plt.ylabel('Duration')\n",
        "\n",
        "sns.regplot(x=df['Popularity'], y=df['duration_in_mins'])\n",
        "\n",
        "plt.show()"
      ]
    },
    {
      "cell_type": "markdown",
      "metadata": {
        "id": "zXndma7QFe67"
      },
      "source": [
        "## Visualisation 3: The most popular 5 artists"
      ]
    },
    {
      "cell_type": "code",
      "execution_count": null,
      "metadata": {
        "colab": {
          "base_uri": "https://localhost:8080/",
          "height": 404
        },
        "id": "BkQ0BBwzFc_g",
        "outputId": "52749df9-dce4-4b8f-8dc3-6d9a0955b8fe"
      },
      "outputs": [
        {
          "data": {
            "image/png": "[encoded data removed]",
            "text/plain": [
              "<Figure size 1008x432 with 1 Axes>"
            ]
          },
          "metadata": {
            "needs_background": "light"
          },
          "output_type": "display_data"
        }
      ],
      "source": [
        "plt.figure(figsize=(14,6))\n",
        "plt.title('Most popular artists')\n",
        "plt.xlabel('Artist Names')\n",
        "plt.ylabel('Popularity average value')\n",
        "\n",
        "groups = df.groupby('Artist')['Popularity'].mean().sort_values()[-5:]\n",
        "sns.barplot(x=groups.index,y= groups.values)\n",
        "\n",
        "plt.show()"
      ]
    },
    {
      "cell_type": "markdown",
      "metadata": {
        "id": "e1BbP5ZrF8oM"
      },
      "source": [
        "# SparkML"
      ]
    },
    {
      "cell_type": "code",
      "execution_count": null,
      "metadata": {
        "id": "nLIFil7PFqv5"
      },
      "outputs": [],
      "source": [
        "#Defining the features columns\n",
        "numericCols = ['Popularity', 'danceability', 'energy', 'key', 'loudness', 'mode', 'speechiness', 'acousticness', 'instrumentalness','liveness', 'valence', 'tempo','time_signature','duration_in_mins']\n",
        "\n",
        "#Defining the pipeline\n",
        "featurizationPipeline = Pipeline(stages = [VectorAssembler(inputCols = numericCols, outputCol = \"feature_vector\")])\n",
        "featurizationPipelineModel = featurizationPipeline.fit(sdf)\n",
        "sdf = featurizationPipelineModel.transform(sdf)\n",
        "\n",
        "#Splitting the data into train and test\n",
        "train, test = sdf.randomSplit([0.8, 0.2], seed = 2018)"
      ]
    },
    {
      "cell_type": "markdown",
      "metadata": {
        "id": "MGTw_GXQGKvQ"
      },
      "source": [
        "## Classifier 1: Logistic Regression classifier"
      ]
    },
    {
      "cell_type": "code",
      "execution_count": null,
      "metadata": {
        "colab": {
          "base_uri": "https://localhost:8080/"
        },
        "id": "hT54tCu-GG13",
        "outputId": "11ba5eae-1f98-4a7d-edfd-096f9e67f979"
      },
      "outputs": [
        {
          "name": "stdout",
          "output_type": "stream",
          "text": [
            "Logistic Regression Accuracy = 42.84313725490196 %\n"
          ]
        }
      ],
      "source": [
        "#Training and applying the model\n",
        "lr = LogisticRegression(featuresCol = 'feature_vector', labelCol = 'Class', maxIter=10)\n",
        "lr_Model = lr.fit(train)\n",
        "lr_predictions = lr_Model.transform(test)\n",
        "\n",
        "#Extracting the labels and predictions\n",
        "labels = lr_predictions.select('Class')\n",
        "lr_predict = lr_predictions.select('prediction')\n",
        "\n",
        "#Calculating accuracy of this classifier\n",
        "lr_accuracy = accuracy_score(labels.toPandas(), lr_predict.toPandas())\n",
        "print(\"Logistic Regression Accuracy =\", lr_accuracy*100, \"%\")"
      ]
    },
    {
      "cell_type": "markdown",
      "metadata": {
        "id": "tVXEZMUWGR1_"
      },
      "source": [
        "## Classifier 2: Decision Trees"
      ]
    },
    {
      "cell_type": "code",
      "execution_count": null,
      "metadata": {
        "colab": {
          "base_uri": "https://localhost:8080/"
        },
        "id": "VwyLakt3GDe5",
        "outputId": "b7be8962-95ee-4731-8a26-b3e891ade8c7"
      },
      "outputs": [
        {
          "name": "stdout",
          "output_type": "stream",
          "text": [
            "Decision Tree Accuracy = 38.2843137254902 %\n"
          ]
        }
      ],
      "source": [
        "dt = DecisionTreeClassifier(featuresCol = 'feature_vector', labelCol = 'Class')\n",
        "dt_Model = dt.fit(train)\n",
        "dt_predictions = dt_Model.transform(test)\n",
        "\n",
        "labels = dt_predictions.select('Class')\n",
        "dt_predict = dt_predictions.select('prediction')\n",
        "\n",
        "dt_accuracy = accuracy_score(labels.toPandas(), dt_predict.toPandas())\n",
        "print(\"Decision Tree Accuracy =\", dt_accuracy*100, \"%\")"
      ]
    },
    {
      "cell_type": "markdown",
      "metadata": {
        "id": "Umdu3kBcGZeB"
      },
      "source": [
        "## Classifier 3: Random Forests"
      ]
    },
    {
      "cell_type": "code",
      "execution_count": null,
      "metadata": {
        "colab": {
          "base_uri": "https://localhost:8080/"
        },
        "id": "M5_NZcTTGYlH",
        "outputId": "49c9561a-84b6-448c-dbeb-016b76eb3a5a"
      },
      "outputs": [
        {
          "name": "stdout",
          "output_type": "stream",
          "text": [
            "Random Forest Accuracy = 39.26470588235294 %\n"
          ]
        }
      ],
      "source": [
        "rf = RandomForestClassifier(featuresCol = 'feature_vector', labelCol = 'Class', numTrees=10)\n",
        "rf_Model = rf.fit(train)\n",
        "rf_predictions = rf_Model.transform(test)\n",
        "\n",
        "labels = rf_predictions.select('Class')\n",
        "rf_predict = rf_predictions.select('prediction')\n",
        "\n",
        "rf_accuracy = accuracy_score(labels.toPandas(), rf_predict.toPandas())\n",
        "print(\"Random Forest Accuracy =\", rf_accuracy*100, \"%\")"
      ]
    }
  ],
  "metadata": {
    "colab": {
      "collapsed_sections": [],
      "name": "Big Data Final Project Solution.ipynb",
      "provenance": []
    },
    "kernelspec": {
      "display_name": "Python 3.10.0 64-bit",
      "language": "python",
      "name": "python3"
    },
    "language_info": {
      "name": "python",
      "version": "3.10.0"
    },
    "vscode": {
      "interpreter": {
        "hash": "369f2c481f4da34e4445cda3fffd2e751bd1c4d706f27375911949ba6bb62e1c"
      }
    }
  },
  "nbformat": 4,
  "nbformat_minor": 0
}
