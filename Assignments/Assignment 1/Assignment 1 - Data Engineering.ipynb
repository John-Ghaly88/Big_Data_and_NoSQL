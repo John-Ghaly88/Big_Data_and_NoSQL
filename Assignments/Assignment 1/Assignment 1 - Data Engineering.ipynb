{
 "cells": [
  {
   "cell_type": "code",
   "execution_count": 1,
   "metadata": {},
   "outputs": [],
   "source": [
    "import pandas as pd\n",
    "import numpy as np\n",
    "from scipy import stats\n",
    "import seaborn as sns\n",
    "from matplotlib import pyplot as plt\n",
    "%matplotlib inline\n",
    "\n",
    "def get_path(dataset_name,env_name='colab'):\n",
    "    prefix = 'https://raw.githubusercontent.com/John-Ghaly88/Big_Data_and_NoSQL/main/Datasets/Assessment/'\n",
    "    if env_name == 'colab':\n",
    "        return prefix+dataset_name\n",
    "    else:\n",
    "        return f'../Datasets/{dataset_name}'"
   ]
  },
  {
   "cell_type": "markdown",
   "metadata": {},
   "source": [
    "### Reading the data set"
   ]
  },
  {
   "cell_type": "code",
   "execution_count": 2,
   "metadata": {},
   "outputs": [
    {
     "data": {
      "text/html": [
       "<div>\n",
       "<style scoped>\n",
       "    .dataframe tbody tr th:only-of-type {\n",
       "        vertical-align: middle;\n",
       "    }\n",
       "\n",
       "    .dataframe tbody tr th {\n",
       "        vertical-align: top;\n",
       "    }\n",
       "\n",
       "    .dataframe thead th {\n",
       "        text-align: right;\n",
       "    }\n",
       "</style>\n",
       "<table border=\"1\" class=\"dataframe\">\n",
       "  <thead>\n",
       "    <tr style=\"text-align: right;\">\n",
       "      <th></th>\n",
       "      <th>Unnamed: 0</th>\n",
       "      <th>id</th>\n",
       "      <th>name</th>\n",
       "      <th>host_id</th>\n",
       "      <th>host_name</th>\n",
       "      <th>neighbourhood_group</th>\n",
       "      <th>neighbourhood</th>\n",
       "      <th>latitude</th>\n",
       "      <th>longitude</th>\n",
       "      <th>room_type</th>\n",
       "      <th>price</th>\n",
       "      <th>minimum_nights</th>\n",
       "      <th>number_of_reviews</th>\n",
       "      <th>last_review</th>\n",
       "      <th>reviews_per_month</th>\n",
       "      <th>calculated_host_listings_count</th>\n",
       "      <th>availability_365</th>\n",
       "    </tr>\n",
       "  </thead>\n",
       "  <tbody>\n",
       "    <tr>\n",
       "      <th>0</th>\n",
       "      <td>0</td>\n",
       "      <td>2015</td>\n",
       "      <td>Berlin-Mitte Value! Quiet courtyard/very central</td>\n",
       "      <td>2217</td>\n",
       "      <td>Ian</td>\n",
       "      <td>Mitte</td>\n",
       "      <td>Brunnenstr. Süd</td>\n",
       "      <td>52.534537</td>\n",
       "      <td>13.402557</td>\n",
       "      <td>Entire home/apt</td>\n",
       "      <td>60.0</td>\n",
       "      <td>4</td>\n",
       "      <td>118</td>\n",
       "      <td>28-10-18</td>\n",
       "      <td>3.76</td>\n",
       "      <td>4</td>\n",
       "      <td>141</td>\n",
       "    </tr>\n",
       "    <tr>\n",
       "      <th>1</th>\n",
       "      <td>1</td>\n",
       "      <td>2695</td>\n",
       "      <td>Prenzlauer Berg close to Mauerpark</td>\n",
       "      <td>2986</td>\n",
       "      <td>Michael</td>\n",
       "      <td>Pankow</td>\n",
       "      <td>Prenzlauer Berg Nordwest</td>\n",
       "      <td>52.548513</td>\n",
       "      <td>13.404553</td>\n",
       "      <td>Private room</td>\n",
       "      <td>17.0</td>\n",
       "      <td>2</td>\n",
       "      <td>6</td>\n",
       "      <td>01-10-18</td>\n",
       "      <td>1.42</td>\n",
       "      <td>1</td>\n",
       "      <td>0</td>\n",
       "    </tr>\n",
       "    <tr>\n",
       "      <th>2</th>\n",
       "      <td>2</td>\n",
       "      <td>3176</td>\n",
       "      <td>Fabulous Flat in great Location</td>\n",
       "      <td>3718</td>\n",
       "      <td>Britta</td>\n",
       "      <td>Pankow</td>\n",
       "      <td>Prenzlauer Berg Südwest</td>\n",
       "      <td>52.534996</td>\n",
       "      <td>13.417579</td>\n",
       "      <td>Entire home/apt</td>\n",
       "      <td>90.0</td>\n",
       "      <td>62</td>\n",
       "      <td>143</td>\n",
       "      <td>20-03-17</td>\n",
       "      <td>1.25</td>\n",
       "      <td>1</td>\n",
       "      <td>220</td>\n",
       "    </tr>\n",
       "    <tr>\n",
       "      <th>3</th>\n",
       "      <td>3</td>\n",
       "      <td>3309</td>\n",
       "      <td>BerlinSpot Schöneberg near KaDeWe</td>\n",
       "      <td>4108</td>\n",
       "      <td>Jana</td>\n",
       "      <td>Tempelhof - Schöneberg</td>\n",
       "      <td>Schöneberg-Nord</td>\n",
       "      <td>52.498855</td>\n",
       "      <td>13.349065</td>\n",
       "      <td>Private room</td>\n",
       "      <td>26.0</td>\n",
       "      <td>5</td>\n",
       "      <td>25</td>\n",
       "      <td>16-08-18</td>\n",
       "      <td>0.39</td>\n",
       "      <td>1</td>\n",
       "      <td>297</td>\n",
       "    </tr>\n",
       "    <tr>\n",
       "      <th>4</th>\n",
       "      <td>4</td>\n",
       "      <td>7071</td>\n",
       "      <td>BrightRoom with sunny greenview!</td>\n",
       "      <td>17391</td>\n",
       "      <td>Bright</td>\n",
       "      <td>Pankow</td>\n",
       "      <td>Helmholtzplatz</td>\n",
       "      <td>52.543157</td>\n",
       "      <td>13.415091</td>\n",
       "      <td>Private room</td>\n",
       "      <td>42.0</td>\n",
       "      <td>2</td>\n",
       "      <td>197</td>\n",
       "      <td>04-11-18</td>\n",
       "      <td>1.75</td>\n",
       "      <td>1</td>\n",
       "      <td>26</td>\n",
       "    </tr>\n",
       "  </tbody>\n",
       "</table>\n",
       "</div>"
      ],
      "text/plain": [
       "   Unnamed: 0    id                                              name  \\\n",
       "0           0  2015  Berlin-Mitte Value! Quiet courtyard/very central   \n",
       "1           1  2695                Prenzlauer Berg close to Mauerpark   \n",
       "2           2  3176                   Fabulous Flat in great Location   \n",
       "3           3  3309                 BerlinSpot Schöneberg near KaDeWe   \n",
       "4           4  7071                  BrightRoom with sunny greenview!   \n",
       "\n",
       "   host_id host_name     neighbourhood_group             neighbourhood  \\\n",
       "0     2217       Ian                   Mitte           Brunnenstr. Süd   \n",
       "1     2986   Michael                  Pankow  Prenzlauer Berg Nordwest   \n",
       "2     3718    Britta                  Pankow   Prenzlauer Berg Südwest   \n",
       "3     4108      Jana  Tempelhof - Schöneberg           Schöneberg-Nord   \n",
       "4    17391    Bright                  Pankow            Helmholtzplatz   \n",
       "\n",
       "    latitude  longitude        room_type  price  minimum_nights  \\\n",
       "0  52.534537  13.402557  Entire home/apt   60.0               4   \n",
       "1  52.548513  13.404553     Private room   17.0               2   \n",
       "2  52.534996  13.417579  Entire home/apt   90.0              62   \n",
       "3  52.498855  13.349065     Private room   26.0               5   \n",
       "4  52.543157  13.415091     Private room   42.0               2   \n",
       "\n",
       "   number_of_reviews last_review  reviews_per_month  \\\n",
       "0                118    28-10-18               3.76   \n",
       "1                  6    01-10-18               1.42   \n",
       "2                143    20-03-17               1.25   \n",
       "3                 25    16-08-18               0.39   \n",
       "4                197    04-11-18               1.75   \n",
       "\n",
       "   calculated_host_listings_count  availability_365  \n",
       "0                               4               141  \n",
       "1                               1                 0  \n",
       "2                               1               220  \n",
       "3                               1               297  \n",
       "4                               1                26  "
      ]
     },
     "execution_count": 2,
     "metadata": {},
     "output_type": "execute_result"
    }
   ],
   "source": [
    "listings = pd.read_csv(get_path('listingsFinal.csv'))\n",
    "\n",
    "listings.head()"
   ]
  },
  {
   "cell_type": "markdown",
   "metadata": {},
   "source": [
    "# Missing Values"
   ]
  },
  {
   "cell_type": "markdown",
   "metadata": {},
   "source": [
    "Searching for missing values"
   ]
  },
  {
   "cell_type": "code",
   "execution_count": 3,
   "metadata": {},
   "outputs": [
    {
     "data": {
      "text/plain": [
       "Unnamed: 0                           0\n",
       "id                                   0\n",
       "name                                59\n",
       "host_id                              0\n",
       "host_name                           26\n",
       "neighbourhood_group                  0\n",
       "neighbourhood                        0\n",
       "latitude                             0\n",
       "longitude                            0\n",
       "room_type                            0\n",
       "price                              498\n",
       "minimum_nights                       0\n",
       "number_of_reviews                    0\n",
       "last_review                       3908\n",
       "reviews_per_month                 3914\n",
       "calculated_host_listings_count       0\n",
       "availability_365                     0\n",
       "dtype: int64"
      ]
     },
     "execution_count": 3,
     "metadata": {},
     "output_type": "execute_result"
    }
   ],
   "source": [
    "listings.isnull().sum()"
   ]
  },
  {
   "cell_type": "markdown",
   "metadata": {},
   "source": [
    "Filling the missing values with plausible values"
   ]
  },
  {
   "cell_type": "code",
   "execution_count": 4,
   "metadata": {},
   "outputs": [],
   "source": [
    "listings['name'].fillna('No Name', inplace =True)\n",
    "listings['host_name'].fillna('No Name', inplace =True)\n",
    "\n",
    "listings['price'].fillna(round(listings.price.mean()), inplace=True)\n",
    "listings['reviews_per_month'].fillna(round(listings.reviews_per_month.mean()), inplace=True)\n",
    "\n",
    "listings['last_review'].fillna('Date not provided', inplace =True)"
   ]
  },
  {
   "cell_type": "markdown",
   "metadata": {},
   "source": [
    "Checking that there's no other missing values in my data"
   ]
  },
  {
   "cell_type": "code",
   "execution_count": null,
   "metadata": {},
   "outputs": [],
   "source": [
    "# listings.isnull().sum()"
   ]
  },
  {
   "cell_type": "markdown",
   "metadata": {},
   "source": [
    "# Feature Engineering"
   ]
  },
  {
   "cell_type": "markdown",
   "metadata": {},
   "source": [
    "Dropping unnecessary columns"
   ]
  },
  {
   "cell_type": "code",
   "execution_count": null,
   "metadata": {},
   "outputs": [],
   "source": [
    "listings.drop('Unnamed: 0', axis = 1,inplace = True)\n",
    "# listings.head()"
   ]
  },
  {
   "cell_type": "markdown",
   "metadata": {},
   "source": [
    "Combining 2 related features into 1 feature"
   ]
  },
  {
   "cell_type": "code",
   "execution_count": null,
   "metadata": {},
   "outputs": [],
   "source": [
    "listings[\"Loc. Coord.\"] = \"(\" + listings['latitude'].astype(str) + \",\" + listings[\"longitude\"].astype(str) + \")\"\n",
    "listings.drop('latitude', axis = 1,inplace = True)\n",
    "listings.drop('longitude', axis = 1,inplace = True)\n",
    "# listings.head()"
   ]
  },
  {
   "cell_type": "markdown",
   "metadata": {},
   "source": [
    "# Handling Outliers"
   ]
  },
  {
   "cell_type": "markdown",
   "metadata": {},
   "source": [
    "Remove the records that require minimum number of nights that is more than 3 months"
   ]
  },
  {
   "cell_type": "code",
   "execution_count": 8,
   "metadata": {},
   "outputs": [
    {
     "name": "stdout",
     "output_type": "stream",
     "text": [
      "(22552, 15)\n",
      "(22403, 15)\n"
     ]
    }
   ],
   "source": [
    "clear_minimum_nights = listings[listings.minimum_nights <= 90]\n",
    "print(listings.shape)\n",
    "print(clear_minimum_nights.shape)\n",
    "\n",
    "listings = clear_minimum_nights"
   ]
  },
  {
   "cell_type": "markdown",
   "metadata": {},
   "source": [
    "Handling the prices' outliers using the z-score"
   ]
  },
  {
   "cell_type": "code",
   "execution_count": 9,
   "metadata": {},
   "outputs": [
    {
     "name": "stdout",
     "output_type": "stream",
     "text": [
      "(22403, 15)\n",
      "(22188, 15)\n"
     ]
    }
   ],
   "source": [
    "z = np.abs(stats.zscore(listings['price']))\n",
    "\n",
    "clear_price = listings[z < 1]\n",
    "\n",
    "print(listings.shape)\n",
    "print(clear_price.shape)\n",
    "\n",
    "listings = clear_price"
   ]
  },
  {
   "cell_type": "code",
   "execution_count": null,
   "metadata": {},
   "outputs": [],
   "source": [
    "# listings.head()"
   ]
  },
  {
   "cell_type": "markdown",
   "metadata": {},
   "source": [
    "# Visualizations "
   ]
  },
  {
   "cell_type": "markdown",
   "metadata": {},
   "source": [
    "Histogram to visualize the number of rooms and their availability throughout the year"
   ]
  },
  {
   "cell_type": "code",
   "execution_count": 11,
   "metadata": {},
   "outputs": [
    {
     "data": {
      "image/png": "[encoded data removed]",
      "text/plain": [
       "<Figure size 432x288 with 1 Axes>"
      ]
     },
     "metadata": {
      "needs_background": "light"
     },
     "output_type": "display_data"
    }
   ],
   "source": [
    "plt.title('Rooms Availability')\n",
    "plt.xlabel('Available days in the year')\n",
    "plt.ylabel('No of rooms')\n",
    "plt.hist(listings.availability_365,color='m')\n",
    "\n",
    "plt.show()"
   ]
  },
  {
   "cell_type": "markdown",
   "metadata": {},
   "source": [
    "Scatter plot to show the relation between the price and the number of minimum nights"
   ]
  },
  {
   "cell_type": "code",
   "execution_count": 12,
   "metadata": {},
   "outputs": [
    {
     "data": {
      "text/plain": [
       "<AxesSubplot:xlabel='price', ylabel='minimum_nights'>"
      ]
     },
     "execution_count": 12,
     "metadata": {},
     "output_type": "execute_result"
    },
    {
     "data": {
      "image/png": "[encoded data removed]",
      "text/plain": [
       "<Figure size 1008x432 with 1 Axes>"
      ]
     },
     "metadata": {
      "needs_background": "light"
     },
     "output_type": "display_data"
    }
   ],
   "source": [
    "plt.figure(figsize=(14,6))\n",
    "\n",
    "sns.scatterplot(x=listings['price'], y=listings['minimum_nights'])"
   ]
  },
  {
   "cell_type": "code",
   "execution_count": null,
   "metadata": {},
   "outputs": [],
   "source": [
    "# bokeh packages\n",
    "from bokeh.io import output_file,show,output_notebook,push_notebook\n",
    "from bokeh.plotting import figure\n",
    "from bokeh.models import ColumnDataSource,HoverTool,BoxSelectTool\n",
    "from bokeh.layouts import row,column,gridplot\n",
    "from bokeh.models.widgets import Tabs,Panel\n",
    "from bokeh.models import LinearColorMapper\n",
    "output_notebook()\n",
    "\n",
    "f = figure()\n",
    "f.scatter(x=listings['price'],y=listings['minimum_nights'], alpha=0.7)\n",
    "show(f)"
   ]
  }
 ],
 "metadata": {
  "kernelspec": {
   "display_name": "Python 3.10.0 64-bit",
   "language": "python",
   "name": "python3"
  },
  "language_info": {
   "codemirror_mode": {
    "name": "ipython",
    "version": 3
   },
   "file_extension": ".py",
   "mimetype": "text/x-python",
   "name": "python",
   "nbconvert_exporter": "python",
   "pygments_lexer": "ipython3",
   "version": "3.10.0"
  },
  "vscode": {
   "interpreter": {
    "hash": "369f2c481f4da34e4445cda3fffd2e751bd1c4d706f27375911949ba6bb62e1c"
   }
  }
 },
 "nbformat": 4,
 "nbformat_minor": 4
}
