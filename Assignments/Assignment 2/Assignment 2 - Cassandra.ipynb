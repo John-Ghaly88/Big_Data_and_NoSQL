{
  "cells": [
    {
      "cell_type": "code",
      "execution_count": null,
      "metadata": {
        "colab": {
          "base_uri": "https://localhost:8080/",
          "height": 1000
        },
        "id": "YsRet8Ib3t4d",
        "outputId": "acfbc1d3-54a8-4d83-d5d8-34eccc7d9fdb"
      },
      "outputs": [],
      "source": [
        "# !pip install pyspark\n",
        "# !pip install findspark\n",
        "# !pip install pyarrow==1.0.0\n",
        "# !pip install pandas\n",
        "# !pip install numpy==1.19.5\n",
        "\n",
        "# !pip install cassandra-driver"
      ]
    },
    {
      "cell_type": "code",
      "execution_count": null,
      "metadata": {
        "id": "14g9mbwC3z4y"
      },
      "outputs": [],
      "source": [
        "import findspark\n",
        "findspark.init()\n",
        "import pandas as pd\n",
        "from pyspark import SparkContext, SparkConf\n",
        "from pyspark.sql import SparkSession\n",
        "\n",
        "import string\n",
        "from cassandra.cluster import Cluster\n",
        "from cassandra.auth import PlainTextAuthProvider\n",
        "from numpy import datetime64\n",
        "\n",
        "def get_path(dataset_name,env_name='colab'):\n",
        "    prefix = 'https://raw.githubusercontent.com/John-Ghaly88/Big_Data_and_NoSQL/main/Datasets/Assessment/'\n",
        "    if env_name == 'colab':\n",
        "        return prefix+dataset_name\n",
        "    else:\n",
        "        return f'../Datasets/{dataset_name}'"
      ]
    },
    {
      "cell_type": "code",
      "execution_count": null,
      "metadata": {
        "id": "K0sG3S044Jq1"
      },
      "outputs": [],
      "source": [
        "sc = SparkContext()\n",
        "\n",
        "# Creating a spark session\n",
        "spark = SparkSession.builder.appName(\"Python Spark DataFrames basic example\") .config(\"spark.some.config.option\", \"some-value\") .getOrCreate()"
      ]
    },
    {
      "cell_type": "code",
      "execution_count": null,
      "metadata": {
        "id": "DVtKu7DF4MqO"
      },
      "outputs": [],
      "source": [
        "df = pd.read_csv(get_path('cleaned_taxi_trip.csv'))\n",
        "i,j = df.shape"
      ]
    },
    {
      "cell_type": "code",
      "execution_count": null,
      "metadata": {
        "id": "aMoHf6Tk4MTd"
      },
      "outputs": [],
      "source": [
        "sdf = spark.createDataFrame(df) "
      ]
    },
    {
      "cell_type": "code",
      "execution_count": null,
      "metadata": {
        "id": "kef12KAI4L7-"
      },
      "outputs": [],
      "source": [
        "sdf.createTempView(\"taxis\")"
      ]
    },
    {
      "cell_type": "markdown",
      "metadata": {
        "id": "hao4WD1wqbtr"
      },
      "source": [
        "### The group by using cassandra only works on primary keys, so given that we need multiple group by's and oly one primary key is acceptable, i used spark instead"
      ]
    },
    {
      "cell_type": "code",
      "execution_count": null,
      "metadata": {
        "id": "9kObDO3Vqbtu"
      },
      "outputs": [],
      "source": [
        "# session.execute(\"\"\"SELECT time_of_day,payment_type,COUNT(*) as number_of_trips \n",
        "# FROM taxi.nyc_taxiii10 \n",
        "# GROUP BY time_of_day,payment_type \n",
        "# \"\"\")"
      ]
    },
    {
      "cell_type": "code",
      "execution_count": null,
      "metadata": {
        "colab": {
          "base_uri": "https://localhost:8080/"
        },
        "id": "aEs8GTbA4LGX",
        "outputId": "26cfffa9-d221-4d78-ba84-ff8d6b7e94c6"
      },
      "outputs": [
        {
          "name": "stdout",
          "output_type": "stream",
          "text": [
            "+-----------+------------+---------------+\n",
            "|time_of_day|payment_type|number_of_trips|\n",
            "+-----------+------------+---------------+\n",
            "|    morning|           1|           3441|\n",
            "|    evening|           1|           3298|\n",
            "|  afternoon|           1|           3346|\n",
            "|      night|           1|           3295|\n",
            "+-----------+------------+---------------+\n",
            "\n"
          ]
        }
      ],
      "source": [
        "spark.sql(\"\"\" \n",
        "WITH s1 AS\n",
        "(SELECT time_of_day, payment_type, COUNT(*) number_of_trips \n",
        "FROM taxis \n",
        "GROUP BY time_of_day, payment_type \n",
        "ORDER BY number_of_trips DESC),\n",
        "s2 AS(\n",
        "  SELECT MAX(s1.number_of_trips) number_of_trips\n",
        "  FROM s1\n",
        "  GROUP BY s1.time_of_day\n",
        ")\n",
        "SELECT time_of_day, payment_type, number_of_trips\n",
        "FROM s1 INNER JOIN s2 using(number_of_trips)\n",
        "WHERE s1.number_of_trips=s2.number_of_trips\n",
        "\"\"\").show()"
      ]
    },
    {
      "cell_type": "code",
      "execution_count": null,
      "metadata": {
        "id": "3TuHY-MRqbtx"
      },
      "outputs": [],
      "source": [
        "# session.execute(\"select passenger_count,AVG(tip_amount) as average_tip_amount from taxi.nyc_taxiii10 GROUP BY passenger_count\")"
      ]
    },
    {
      "cell_type": "code",
      "execution_count": null,
      "metadata": {
        "colab": {
          "base_uri": "https://localhost:8080/"
        },
        "id": "zF7kSmps4o6j",
        "outputId": "dde16d85-dc85-4685-de5e-eddd1c7b2328"
      },
      "outputs": [
        {
          "name": "stdout",
          "output_type": "stream",
          "text": [
            "+---------------+------------------+\n",
            "|passenger_count|average_tip_amount|\n",
            "+---------------+------------------+\n",
            "|              4|              1.92|\n",
            "|              6|              1.89|\n",
            "|              5|              1.83|\n",
            "|              1|              1.82|\n",
            "|              2|               1.8|\n",
            "|              3|              1.77|\n",
            "+---------------+------------------+\n",
            "\n"
          ]
        }
      ],
      "source": [
        "spark.sql(\"SELECT passenger_count, ROUND(AVG(tip_amount), 2) average_tip_amount FROM taxis GROUP BY passenger_count ORDER BY average_tip_amount DESC\").show()"
      ]
    },
    {
      "cell_type": "code",
      "execution_count": null,
      "metadata": {
        "id": "uxWKS3Ufqbtz"
      },
      "outputs": [],
      "source": [
        "# session.execute(\"select zone_id,zone_name,COUNT(*) as number_of_trips from taxi.nyc_taxiii10 GROUP BY zone_id,zone_name \")"
      ]
    },
    {
      "cell_type": "code",
      "execution_count": null,
      "metadata": {
        "colab": {
          "base_uri": "https://localhost:8080/"
        },
        "id": "WW_yFSJP4o3r",
        "outputId": "321d0926-eb35-478c-9579-f95f552c1fa5"
      },
      "outputs": [
        {
          "name": "stdout",
          "output_type": "stream",
          "text": [
            "+-------+--------------------+---------------+\n",
            "|zone_id|           zone_name|number_of_trips|\n",
            "+-------+--------------------+---------------+\n",
            "|    237|Upper East Side S...|            793|\n",
            "|    161|      Midtown Center|            745|\n",
            "|    236|Upper East Side N...|            715|\n",
            "|    230|Times Sq/Theatre ...|            693|\n",
            "|    162|        Midtown East|            669|\n",
            "+-------+--------------------+---------------+\n",
            "\n"
          ]
        }
      ],
      "source": [
        "spark.sql(\"SELECT zone_id,zone_name, COUNT(*) number_of_trips FROM taxis GROUP BY zone_id,zone_name ORDER BY number_of_trips DESC LIMIT 5\").show()"
      ]
    },
    {
      "cell_type": "markdown",
      "metadata": {
        "id": "GmDNDX3Oqbt1"
      },
      "source": [
        "### Adding the total amount to dataframe using spark."
      ]
    },
    {
      "cell_type": "code",
      "execution_count": null,
      "metadata": {
        "id": "UpiktY6y4o1A"
      },
      "outputs": [],
      "source": [
        "sdf=spark.sql(\"SELECT *,ROUND((fare_amount+extra+mta_tax+tip_amount+tolls_amount+imp_surcharge),2) total_amount FROM taxis\")"
      ]
    },
    {
      "cell_type": "code",
      "execution_count": null,
      "metadata": {
        "colab": {
          "base_uri": "https://localhost:8080/"
        },
        "id": "x-YSIWBF4ozX",
        "outputId": "3dd4d4e3-a3c4-45ea-bab5-c2ff344dfd20"
      },
      "outputs": [],
      "source": [
        "# sdf.show()"
      ]
    },
    {
      "cell_type": "code",
      "execution_count": null,
      "metadata": {
        "id": "mkRNe8VtU-Qf"
      },
      "outputs": [],
      "source": [
        "cloud_config= {'secure_connect_bundle': 'secure-connect-taxi2.zip'}\n",
        "auth_provider = PlainTextAuthProvider('rJKAmyrlDtBYgFQdXUWZDDIS', '5cTRfvL6n-wZu3Ky1XoDnm4sEZ3SiLj.0Brw.NlJdQCEtbNdca7XYYAN6fc9oZ_PgpMbDjWbu3fQrpu49-rfwZ5e2Ys,DMrNnW0kR2H4NM4z8nwj9NY3pQsZBo5iZIh1') \n",
        "cluster = Cluster(cloud=cloud_config, auth_provider=auth_provider)\n",
        "session = cluster.connect()"
      ]
    },
    {
      "cell_type": "code",
      "execution_count": null,
      "metadata": {
        "colab": {
          "base_uri": "https://localhost:8080/"
        },
        "id": "8vAcDgk1WKo-",
        "outputId": "50ad0530-def1-4afa-cde0-f6bf97960a53"
      },
      "outputs": [
        {
          "data": {
            "text/plain": [
              "<cassandra.cluster.ResultSet at 0x7f24be786110>"
            ]
          },
          "execution_count": 15,
          "metadata": {},
          "output_type": "execute_result"
        }
      ],
      "source": [
        "session.execute(\"use taxi\")"
      ]
    },
    {
      "cell_type": "code",
      "execution_count": null,
      "metadata": {
        "colab": {
          "base_uri": "https://localhost:8080/"
        },
        "id": "kQvAEvsmWvFs",
        "outputId": "807e3a23-d2c3-4c01-dc0e-3631f73ada86"
      },
      "outputs": [
        {
          "data": {
            "text/plain": [
              "<cassandra.cluster.ResultSet at 0x7f24b413a310>"
            ]
          },
          "execution_count": 16,
          "metadata": {},
          "output_type": "execute_result"
        }
      ],
      "source": [
        "session.execute(\"\"\"\n",
        "    create table if not exists taxi.nyc_tax (\n",
        "        vendor_id text,\n",
        "        pickup_datetime text,\n",
        "        dropoff_datetime text,\n",
        "        passenger_count int,\n",
        "        trip_distance float,\n",
        "        payment_type text,\n",
        "        fare_amount float,\n",
        "        extra float,\n",
        "        mta_tax float,\n",
        "        tip_amount float,\n",
        "        tolls_amount float ,\n",
        "        imp_surcharge float,\n",
        "        zone_id text,\n",
        "        dropofflocationid text,\n",
        "        zone_name text,\n",
        "        borough text,\n",
        "        duration float,\n",
        "        time_of_day text,\n",
        "        id text,\n",
        "        Primary key (id)\n",
        " \t);\n",
        "\"\"\")"
      ]
    },
    {
      "cell_type": "code",
      "execution_count": null,
      "metadata": {
        "id": "TpQrkCVk7Gk7"
      },
      "outputs": [],
      "source": [
        "df = sdf.toPandas()"
      ]
    },
    {
      "cell_type": "code",
      "execution_count": null,
      "metadata": {
        "id": "XCrnz15cXFel"
      },
      "outputs": [],
      "source": [
        "for x in range(0,i-19000):\n",
        "    session.execute(\"insert into taxi.nyc_tax(vendor_id,pickup_datetime,dropoff_datetime,passenger_count,trip_distance,payment_type,fare_amount,extra,mta_tax,tip_amount,tolls_amount,imp_surcharge,zone_id \\\n",
        "    ,dropofflocationid,zone_name,borough,duration,time_of_day,id) values (%s,%s,%s,%s,%s,%s,%s,%s,%s,%s,%s,%s,%s,%s,%s,%s,%s,%s,%s);\", \\\n",
        "    (str(df.loc[x].vendor_id), str(df.loc[x].pickup_datetime), str(df.loc[x].dropoff_datetime), int(df.loc[x].passenger_count), float(df.loc[x].trip_distance),str(df.loc[x].payment_type), \\\n",
        "    float(df.loc[x].fare_amount),float(df.loc[x].extra),float(df.loc[x].mta_tax),float(df.loc[x].tip_amount),float(df.loc[x].tolls_amount),float(df.loc[x].imp_surcharge), \\\n",
        "    str(df.loc[x].zone_id),str(df.loc[x].dropoff_location_id),str(df.loc[x].zone_name),str(df.loc[x].borough),int(df.loc[x].duration),str(df.loc[x].time_of_day),str(x)))"
      ]
    },
    {
      "cell_type": "markdown",
      "metadata": {
        "id": "pzLfwRWsqbuB"
      },
      "source": [
        "### Another way of adding total amount column using cassandra"
      ]
    },
    {
      "cell_type": "code",
      "execution_count": null,
      "metadata": {
        "colab": {
          "base_uri": "https://localhost:8080/"
        },
        "id": "T87V4kTGqbuC",
        "outputId": "588d6eed-f1ec-4518-e62b-443fe43944ea"
      },
      "outputs": [
        {
          "data": {
            "text/plain": [
              "<cassandra.cluster.ResultSet at 0x7f24b628eb90>"
            ]
          },
          "execution_count": 19,
          "metadata": {},
          "output_type": "execute_result"
        }
      ],
      "source": [
        "session.execute(\"alter table taxi.nyc_tax add Total float;\")"
      ]
    },
    {
      "cell_type": "code",
      "execution_count": null,
      "metadata": {
        "id": "vvxBPn7W1Jsk"
      },
      "outputs": [],
      "source": [
        "table= session.execute(\" select * from taxi.nyc_tax;\")\n",
        "counter = 0 \n",
        "total = []\n",
        "for j in table:\n",
        "        counter = counter + 1\n",
        "        total = (j[6]+ j[7]+ j[8]+ j[5]+ int(j[13]) + int(j[14]))\n",
        "        session.execute(\"update taxi.nyc_tax set Total = {0} where id='{1}';\".format(total,j[0]))"
      ]
    }
  ],
  "metadata": {
    "colab": {
      "collapsed_sections": [],
      "name": "ASS2_BIG_DATA (FINAL).ipynb",
      "provenance": []
    },
    "kernelspec": {
      "display_name": "Python 3.10.0 64-bit",
      "language": "python",
      "name": "python3"
    },
    "language_info": {
      "codemirror_mode": {
        "name": "ipython",
        "version": 3
      },
      "file_extension": ".py",
      "mimetype": "text/x-python",
      "name": "python",
      "nbconvert_exporter": "python",
      "pygments_lexer": "ipython3",
      "version": "3.10.0"
    },
    "vscode": {
      "interpreter": {
        "hash": "369f2c481f4da34e4445cda3fffd2e751bd1c4d706f27375911949ba6bb62e1c"
      }
    }
  },
  "nbformat": 4,
  "nbformat_minor": 0
}
